{
  "nbformat": 4,
  "nbformat_minor": 0,
  "metadata": {
    "colab": {
      "provenance": []
    },
    "kernelspec": {
      "name": "python3",
      "display_name": "Python 3"
    },
    "language_info": {
      "name": "python"
    }
  },
  "cells": [
    {
      "cell_type": "code",
      "execution_count": null,
      "metadata": {
        "id": "R10Octyd4O2y"
      },
      "outputs": [],
      "source": [
        "!pip install -q kaggle"
      ]
    },
    {
      "cell_type": "code",
      "source": [
        "from google.colab import files\n",
        "files.upload()"
      ],
      "metadata": {
        "colab": {
          "base_uri": "https://localhost:8080/",
          "height": 92
        },
        "id": "ICYyJiKt48cH",
        "outputId": "f79935ed-287c-4dd5-c8de-64e343469a4a"
      },
      "execution_count": null,
      "outputs": [
        {
          "output_type": "display_data",
          "data": {
            "text/plain": [
              "<IPython.core.display.HTML object>"
            ],
            "text/html": [
              "\n",
              "     <input type=\"file\" id=\"files-a13f030c-2bf2-413f-8271-80b62cb10265\" name=\"files[]\" multiple disabled\n",
              "        style=\"border:none\" />\n",
              "     <output id=\"result-a13f030c-2bf2-413f-8271-80b62cb10265\">\n",
              "      Upload widget is only available when the cell has been executed in the\n",
              "      current browser session. Please rerun this cell to enable.\n",
              "      </output>\n",
              "      <script>// Copyright 2017 Google LLC\n",
              "//\n",
              "// Licensed under the Apache License, Version 2.0 (the \"License\");\n",
              "// you may not use this file except in compliance with the License.\n",
              "// You may obtain a copy of the License at\n",
              "//\n",
              "//      http://www.apache.org/licenses/LICENSE-2.0\n",
              "//\n",
              "// Unless required by applicable law or agreed to in writing, software\n",
              "// distributed under the License is distributed on an \"AS IS\" BASIS,\n",
              "// WITHOUT WARRANTIES OR CONDITIONS OF ANY KIND, either express or implied.\n",
              "// See the License for the specific language governing permissions and\n",
              "// limitations under the License.\n",
              "\n",
              "/**\n",
              " * @fileoverview Helpers for google.colab Python module.\n",
              " */\n",
              "(function(scope) {\n",
              "function span(text, styleAttributes = {}) {\n",
              "  const element = document.createElement('span');\n",
              "  element.textContent = text;\n",
              "  for (const key of Object.keys(styleAttributes)) {\n",
              "    element.style[key] = styleAttributes[key];\n",
              "  }\n",
              "  return element;\n",
              "}\n",
              "\n",
              "// Max number of bytes which will be uploaded at a time.\n",
              "const MAX_PAYLOAD_SIZE = 100 * 1024;\n",
              "\n",
              "function _uploadFiles(inputId, outputId) {\n",
              "  const steps = uploadFilesStep(inputId, outputId);\n",
              "  const outputElement = document.getElementById(outputId);\n",
              "  // Cache steps on the outputElement to make it available for the next call\n",
              "  // to uploadFilesContinue from Python.\n",
              "  outputElement.steps = steps;\n",
              "\n",
              "  return _uploadFilesContinue(outputId);\n",
              "}\n",
              "\n",
              "// This is roughly an async generator (not supported in the browser yet),\n",
              "// where there are multiple asynchronous steps and the Python side is going\n",
              "// to poll for completion of each step.\n",
              "// This uses a Promise to block the python side on completion of each step,\n",
              "// then passes the result of the previous step as the input to the next step.\n",
              "function _uploadFilesContinue(outputId) {\n",
              "  const outputElement = document.getElementById(outputId);\n",
              "  const steps = outputElement.steps;\n",
              "\n",
              "  const next = steps.next(outputElement.lastPromiseValue);\n",
              "  return Promise.resolve(next.value.promise).then((value) => {\n",
              "    // Cache the last promise value to make it available to the next\n",
              "    // step of the generator.\n",
              "    outputElement.lastPromiseValue = value;\n",
              "    return next.value.response;\n",
              "  });\n",
              "}\n",
              "\n",
              "/**\n",
              " * Generator function which is called between each async step of the upload\n",
              " * process.\n",
              " * @param {string} inputId Element ID of the input file picker element.\n",
              " * @param {string} outputId Element ID of the output display.\n",
              " * @return {!Iterable<!Object>} Iterable of next steps.\n",
              " */\n",
              "function* uploadFilesStep(inputId, outputId) {\n",
              "  const inputElement = document.getElementById(inputId);\n",
              "  inputElement.disabled = false;\n",
              "\n",
              "  const outputElement = document.getElementById(outputId);\n",
              "  outputElement.innerHTML = '';\n",
              "\n",
              "  const pickedPromise = new Promise((resolve) => {\n",
              "    inputElement.addEventListener('change', (e) => {\n",
              "      resolve(e.target.files);\n",
              "    });\n",
              "  });\n",
              "\n",
              "  const cancel = document.createElement('button');\n",
              "  inputElement.parentElement.appendChild(cancel);\n",
              "  cancel.textContent = 'Cancel upload';\n",
              "  const cancelPromise = new Promise((resolve) => {\n",
              "    cancel.onclick = () => {\n",
              "      resolve(null);\n",
              "    };\n",
              "  });\n",
              "\n",
              "  // Wait for the user to pick the files.\n",
              "  const files = yield {\n",
              "    promise: Promise.race([pickedPromise, cancelPromise]),\n",
              "    response: {\n",
              "      action: 'starting',\n",
              "    }\n",
              "  };\n",
              "\n",
              "  cancel.remove();\n",
              "\n",
              "  // Disable the input element since further picks are not allowed.\n",
              "  inputElement.disabled = true;\n",
              "\n",
              "  if (!files) {\n",
              "    return {\n",
              "      response: {\n",
              "        action: 'complete',\n",
              "      }\n",
              "    };\n",
              "  }\n",
              "\n",
              "  for (const file of files) {\n",
              "    const li = document.createElement('li');\n",
              "    li.append(span(file.name, {fontWeight: 'bold'}));\n",
              "    li.append(span(\n",
              "        `(${file.type || 'n/a'}) - ${file.size} bytes, ` +\n",
              "        `last modified: ${\n",
              "            file.lastModifiedDate ? file.lastModifiedDate.toLocaleDateString() :\n",
              "                                    'n/a'} - `));\n",
              "    const percent = span('0% done');\n",
              "    li.appendChild(percent);\n",
              "\n",
              "    outputElement.appendChild(li);\n",
              "\n",
              "    const fileDataPromise = new Promise((resolve) => {\n",
              "      const reader = new FileReader();\n",
              "      reader.onload = (e) => {\n",
              "        resolve(e.target.result);\n",
              "      };\n",
              "      reader.readAsArrayBuffer(file);\n",
              "    });\n",
              "    // Wait for the data to be ready.\n",
              "    let fileData = yield {\n",
              "      promise: fileDataPromise,\n",
              "      response: {\n",
              "        action: 'continue',\n",
              "      }\n",
              "    };\n",
              "\n",
              "    // Use a chunked sending to avoid message size limits. See b/62115660.\n",
              "    let position = 0;\n",
              "    do {\n",
              "      const length = Math.min(fileData.byteLength - position, MAX_PAYLOAD_SIZE);\n",
              "      const chunk = new Uint8Array(fileData, position, length);\n",
              "      position += length;\n",
              "\n",
              "      const base64 = btoa(String.fromCharCode.apply(null, chunk));\n",
              "      yield {\n",
              "        response: {\n",
              "          action: 'append',\n",
              "          file: file.name,\n",
              "          data: base64,\n",
              "        },\n",
              "      };\n",
              "\n",
              "      let percentDone = fileData.byteLength === 0 ?\n",
              "          100 :\n",
              "          Math.round((position / fileData.byteLength) * 100);\n",
              "      percent.textContent = `${percentDone}% done`;\n",
              "\n",
              "    } while (position < fileData.byteLength);\n",
              "  }\n",
              "\n",
              "  // All done.\n",
              "  yield {\n",
              "    response: {\n",
              "      action: 'complete',\n",
              "    }\n",
              "  };\n",
              "}\n",
              "\n",
              "scope.google = scope.google || {};\n",
              "scope.google.colab = scope.google.colab || {};\n",
              "scope.google.colab._files = {\n",
              "  _uploadFiles,\n",
              "  _uploadFilesContinue,\n",
              "};\n",
              "})(self);\n",
              "</script> "
            ]
          },
          "metadata": {}
        },
        {
          "output_type": "stream",
          "name": "stdout",
          "text": [
            "Saving kaggle.json to kaggle.json\n"
          ]
        },
        {
          "output_type": "execute_result",
          "data": {
            "text/plain": [
              "{'kaggle.json': b'{\"username\":\"rawankhaled20\",\"key\":\"f5a17aecb67ca4675b425dadbe4ab60e\"}'}"
            ]
          },
          "metadata": {},
          "execution_count": 2
        }
      ]
    },
    {
      "cell_type": "code",
      "source": [
        "!mkdir -p ~/.kaggle"
      ],
      "metadata": {
        "id": "7NwQQK1y4-zw"
      },
      "execution_count": null,
      "outputs": []
    },
    {
      "cell_type": "code",
      "source": [
        "!cp kaggle.json ~/.kaggle/"
      ],
      "metadata": {
        "id": "odwuycQl5A_t"
      },
      "execution_count": null,
      "outputs": []
    },
    {
      "cell_type": "code",
      "source": [
        "!kaggle datasets list"
      ],
      "metadata": {
        "colab": {
          "base_uri": "https://localhost:8080/"
        },
        "id": "403HZsQT5C3n",
        "outputId": "1826f15d-4785-498d-d9aa-4777401d21ee"
      },
      "execution_count": null,
      "outputs": [
        {
          "output_type": "stream",
          "name": "stdout",
          "text": [
            "Warning: Your Kaggle API key is readable by other users on this system! To fix this, you can run 'chmod 600 /root/.kaggle/kaggle.json'\n",
            "ref                                                        title                                            size  lastUpdated          downloadCount  voteCount  usabilityRating  \n",
            "---------------------------------------------------------  ----------------------------------------------  -----  -------------------  -------------  ---------  ---------------  \n",
            "nelgiriyewithana/top-spotify-songs-2023                    Most Streamed Spotify Songs 2023                 47KB  2023-08-26 11:04:57          17802        560  1.0              \n",
            "joebeachcapital/students-performance                       Students Performance                              2KB  2023-08-31 00:50:11           6355        160  1.0              \n",
            "mexwell/motorbike-marketplace                              🏍️ Motorbike Marketplace                          2MB  2023-09-18 05:51:56           1019         27  1.0              \n",
            "iamsouravbanerjee/airline-dataset                          Airline Dataset                                  13MB  2023-09-26 01:01:28           6635        150  1.0              \n",
            "mohidabdulrehman/ultimate-car-price-prediction-dataset     Ultimate Car Price Prediction Dataset           665KB  2023-09-23 10:11:48            954         33  1.0              \n",
            "carlmcbrideellis/zzzs-lightweight-training-dataset-target  Zzzs: Lightweight training dataset + target     185MB  2023-09-20 19:52:40            653         80  1.0              \n",
            "sujaykapadnis/horror-movies-dataset                        Horror Movies dataset                             6MB  2023-09-23 18:26:49            834         37  1.0              \n",
            "sazidthe1/world-gdp-data                                   World GDP by Country, Region, and Income Group  108KB  2023-09-13 10:01:10           1428         27  1.0              \n",
            "nelgiriyewithana/credit-card-fraud-detection-dataset-2023  Credit Card Fraud Detection Dataset 2023        143MB  2023-09-18 10:00:19           1746         65  1.0              \n",
            "tawfikelmetwally/employee-dataset                          Employee dataset                                 19KB  2023-09-06 18:15:55           3788         58  0.9411765        \n",
            "yapwh1208/supermarket-sales-data                           Supermarket Sales Data                            8MB  2023-09-22 01:06:21           1568         31  1.0              \n",
            "sujaykapadnis/weather-forecast-accuracy                    Weather Forecast Accuracy                         4MB  2023-09-25 07:37:01            473         25  1.0              \n",
            "prasad22/daily-transactions-dataset                        Daily Transactions Dataset                       34KB  2023-09-25 02:32:21            754         30  1.0              \n",
            "atharvbharaskar/students-test-data                         Students Test Data                                4KB  2023-09-12 10:07:18           1498         38  1.0              \n",
            "samiatisha/world-university-rankings-2023-clean-dataset    World University Rankings 2023 - Cleaned        237KB  2023-09-10 15:22:54           1841         39  1.0              \n",
            "mexwell/us-software-engineer-jobs                          🧑🏻‍💻 US Software Engineer Jobs                   20MB  2023-09-18 06:00:31            715         30  1.0              \n",
            "zsinghrahulk/us-presidents-age-state-health-and-wealth     POTUS : Age , State , Health and Wealth           5KB  2023-09-23 10:18:18            365         25  1.0              \n",
            "computingvictor/top1000youtubers                           Top 1000 Youtubers statistics                    43KB  2023-09-17 19:47:18           1426         35  1.0              \n",
            "antimoni/football-stadiums                                 Football Stadiums ⚽🏟️                            46KB  2023-09-13 18:56:07            861         32  1.0              \n",
            "sujaykapadnis/cats-vs-dogs                                 Cats Vs Dogs                                      2KB  2023-09-25 08:08:07            367         25  1.0              \n"
          ]
        }
      ]
    },
    {
      "cell_type": "code",
      "source": [
        "!kaggle datasets download -d ahsanaseer/top-rated-tmdb-movies-10k"
      ],
      "metadata": {
        "colab": {
          "base_uri": "https://localhost:8080/"
        },
        "id": "uxAvZWyX5Esx",
        "outputId": "3f0f9deb-fb85-4990-dc51-19669c194285"
      },
      "execution_count": null,
      "outputs": [
        {
          "output_type": "stream",
          "name": "stdout",
          "text": [
            "Warning: Your Kaggle API key is readable by other users on this system! To fix this, you can run 'chmod 600 /root/.kaggle/kaggle.json'\n",
            "Downloading top-rated-tmdb-movies-10k.zip to /content\n",
            " 70% 1.00M/1.43M [00:00<00:00, 2.00MB/s]\n",
            "100% 1.43M/1.43M [00:00<00:00, 2.65MB/s]\n"
          ]
        }
      ]
    },
    {
      "cell_type": "code",
      "source": [
        "! unzip top-rated-tmdb-movies-10k.zip"
      ],
      "metadata": {
        "colab": {
          "base_uri": "https://localhost:8080/"
        },
        "id": "9H2h4Tvq5EzN",
        "outputId": "e175b1ef-f289-43bf-d4a2-6db5e3f4dd49"
      },
      "execution_count": null,
      "outputs": [
        {
          "output_type": "stream",
          "name": "stdout",
          "text": [
            "Archive:  top-rated-tmdb-movies-10k.zip\n",
            "  inflating: top10K-TMDB-movies.csv  \n"
          ]
        }
      ]
    },
    {
      "cell_type": "code",
      "source": [
        "import pandas as pd\n",
        "import numpy as np\n",
        "import matplotlib.pyplot as plt\n",
        "import seaborn as sns\n",
        "import pickle\n",
        "from sklearn.feature_extraction.text import CountVectorizer\n",
        "from sklearn.metrics.pairwise import cosine_similarity"
      ],
      "metadata": {
        "id": "-NeWApNo6N9O"
      },
      "execution_count": null,
      "outputs": []
    },
    {
      "cell_type": "code",
      "source": [
        "Dataset=pd.read_csv(\"top10K-TMDB-movies.csv\")"
      ],
      "metadata": {
        "id": "IQtp9mZa6aYK"
      },
      "execution_count": null,
      "outputs": []
    },
    {
      "cell_type": "code",
      "source": [
        "Dataset"
      ],
      "metadata": {
        "colab": {
          "base_uri": "https://localhost:8080/",
          "height": 1000
        },
        "id": "HkEdxg0v6nfu",
        "outputId": "0ab1978d-ac64-403e-c5a4-917f0cee379f"
      },
      "execution_count": null,
      "outputs": [
        {
          "output_type": "execute_result",
          "data": {
            "text/plain": [
              "          id                                          title  \\\n",
              "0        278                       The Shawshank Redemption   \n",
              "1      19404                    Dilwale Dulhania Le Jayenge   \n",
              "2        238                                  The Godfather   \n",
              "3        424                               Schindler's List   \n",
              "4        240                         The Godfather: Part II   \n",
              "...      ...                                            ...   \n",
              "9995   10196                             The Last Airbender   \n",
              "9996  331446                       Sharknado 3: Oh Hell No!   \n",
              "9997   13995                                Captain America   \n",
              "9998    2312  In the Name of the King: A Dungeon Siege Tale   \n",
              "9999  455957                                         Domino   \n",
              "\n",
              "                                                 genre original_language  \\\n",
              "0                                          Drama,Crime                en   \n",
              "1                                 Comedy,Drama,Romance                hi   \n",
              "2                                          Drama,Crime                en   \n",
              "3                                    Drama,History,War                en   \n",
              "4                                          Drama,Crime                en   \n",
              "...                                                ...               ...   \n",
              "9995                          Action,Adventure,Fantasy                en   \n",
              "9996  Action,TV Movie,Science Fiction,Comedy,Adventure                en   \n",
              "9997                        Action,Science Fiction,War                en   \n",
              "9998                    Adventure,Fantasy,Action,Drama                en   \n",
              "9999                             Thriller,Action,Crime                en   \n",
              "\n",
              "                                               overview  popularity  \\\n",
              "0     Framed in the 1940s for the double murder of h...      94.075   \n",
              "1     Raj is a rich, carefree, happy-go-lucky second...      25.408   \n",
              "2     Spanning the years 1945 to 1955, a chronicle o...      90.585   \n",
              "3     The true story of how businessman Oskar Schind...      44.761   \n",
              "4     In the continuing saga of the Corleone crime f...      57.749   \n",
              "...                                                 ...         ...   \n",
              "9995  The story follows the adventures of Aang, a yo...      98.322   \n",
              "9996  The sharks take bite out of the East Coast whe...      12.490   \n",
              "9997  During World War II, a brave, patriotic Americ...      18.333   \n",
              "9998  A man named Farmer sets out to rescue his kidn...      15.159   \n",
              "9999  Seeking justice for his partner’s murder by an...      16.482   \n",
              "\n",
              "     release_date  vote_average  vote_count  \n",
              "0      1994-09-23           8.7       21862  \n",
              "1      1995-10-19           8.7        3731  \n",
              "2      1972-03-14           8.7       16280  \n",
              "3      1993-12-15           8.6       12959  \n",
              "4      1974-12-20           8.6        9811  \n",
              "...           ...           ...         ...  \n",
              "9995   2010-06-30           4.7        3347  \n",
              "9996   2015-07-22           4.7         417  \n",
              "9997   1990-12-14           4.6         332  \n",
              "9998   2007-11-29           4.7         668  \n",
              "9999   2019-05-31           4.6         221  \n",
              "\n",
              "[10000 rows x 9 columns]"
            ],
            "text/html": [
              "\n",
              "  <div id=\"df-687a817a-8a31-4995-94f4-c8d418acb1dd\" class=\"colab-df-container\">\n",
              "    <div>\n",
              "<style scoped>\n",
              "    .dataframe tbody tr th:only-of-type {\n",
              "        vertical-align: middle;\n",
              "    }\n",
              "\n",
              "    .dataframe tbody tr th {\n",
              "        vertical-align: top;\n",
              "    }\n",
              "\n",
              "    .dataframe thead th {\n",
              "        text-align: right;\n",
              "    }\n",
              "</style>\n",
              "<table border=\"1\" class=\"dataframe\">\n",
              "  <thead>\n",
              "    <tr style=\"text-align: right;\">\n",
              "      <th></th>\n",
              "      <th>id</th>\n",
              "      <th>title</th>\n",
              "      <th>genre</th>\n",
              "      <th>original_language</th>\n",
              "      <th>overview</th>\n",
              "      <th>popularity</th>\n",
              "      <th>release_date</th>\n",
              "      <th>vote_average</th>\n",
              "      <th>vote_count</th>\n",
              "    </tr>\n",
              "  </thead>\n",
              "  <tbody>\n",
              "    <tr>\n",
              "      <th>0</th>\n",
              "      <td>278</td>\n",
              "      <td>The Shawshank Redemption</td>\n",
              "      <td>Drama,Crime</td>\n",
              "      <td>en</td>\n",
              "      <td>Framed in the 1940s for the double murder of h...</td>\n",
              "      <td>94.075</td>\n",
              "      <td>1994-09-23</td>\n",
              "      <td>8.7</td>\n",
              "      <td>21862</td>\n",
              "    </tr>\n",
              "    <tr>\n",
              "      <th>1</th>\n",
              "      <td>19404</td>\n",
              "      <td>Dilwale Dulhania Le Jayenge</td>\n",
              "      <td>Comedy,Drama,Romance</td>\n",
              "      <td>hi</td>\n",
              "      <td>Raj is a rich, carefree, happy-go-lucky second...</td>\n",
              "      <td>25.408</td>\n",
              "      <td>1995-10-19</td>\n",
              "      <td>8.7</td>\n",
              "      <td>3731</td>\n",
              "    </tr>\n",
              "    <tr>\n",
              "      <th>2</th>\n",
              "      <td>238</td>\n",
              "      <td>The Godfather</td>\n",
              "      <td>Drama,Crime</td>\n",
              "      <td>en</td>\n",
              "      <td>Spanning the years 1945 to 1955, a chronicle o...</td>\n",
              "      <td>90.585</td>\n",
              "      <td>1972-03-14</td>\n",
              "      <td>8.7</td>\n",
              "      <td>16280</td>\n",
              "    </tr>\n",
              "    <tr>\n",
              "      <th>3</th>\n",
              "      <td>424</td>\n",
              "      <td>Schindler's List</td>\n",
              "      <td>Drama,History,War</td>\n",
              "      <td>en</td>\n",
              "      <td>The true story of how businessman Oskar Schind...</td>\n",
              "      <td>44.761</td>\n",
              "      <td>1993-12-15</td>\n",
              "      <td>8.6</td>\n",
              "      <td>12959</td>\n",
              "    </tr>\n",
              "    <tr>\n",
              "      <th>4</th>\n",
              "      <td>240</td>\n",
              "      <td>The Godfather: Part II</td>\n",
              "      <td>Drama,Crime</td>\n",
              "      <td>en</td>\n",
              "      <td>In the continuing saga of the Corleone crime f...</td>\n",
              "      <td>57.749</td>\n",
              "      <td>1974-12-20</td>\n",
              "      <td>8.6</td>\n",
              "      <td>9811</td>\n",
              "    </tr>\n",
              "    <tr>\n",
              "      <th>...</th>\n",
              "      <td>...</td>\n",
              "      <td>...</td>\n",
              "      <td>...</td>\n",
              "      <td>...</td>\n",
              "      <td>...</td>\n",
              "      <td>...</td>\n",
              "      <td>...</td>\n",
              "      <td>...</td>\n",
              "      <td>...</td>\n",
              "    </tr>\n",
              "    <tr>\n",
              "      <th>9995</th>\n",
              "      <td>10196</td>\n",
              "      <td>The Last Airbender</td>\n",
              "      <td>Action,Adventure,Fantasy</td>\n",
              "      <td>en</td>\n",
              "      <td>The story follows the adventures of Aang, a yo...</td>\n",
              "      <td>98.322</td>\n",
              "      <td>2010-06-30</td>\n",
              "      <td>4.7</td>\n",
              "      <td>3347</td>\n",
              "    </tr>\n",
              "    <tr>\n",
              "      <th>9996</th>\n",
              "      <td>331446</td>\n",
              "      <td>Sharknado 3: Oh Hell No!</td>\n",
              "      <td>Action,TV Movie,Science Fiction,Comedy,Adventure</td>\n",
              "      <td>en</td>\n",
              "      <td>The sharks take bite out of the East Coast whe...</td>\n",
              "      <td>12.490</td>\n",
              "      <td>2015-07-22</td>\n",
              "      <td>4.7</td>\n",
              "      <td>417</td>\n",
              "    </tr>\n",
              "    <tr>\n",
              "      <th>9997</th>\n",
              "      <td>13995</td>\n",
              "      <td>Captain America</td>\n",
              "      <td>Action,Science Fiction,War</td>\n",
              "      <td>en</td>\n",
              "      <td>During World War II, a brave, patriotic Americ...</td>\n",
              "      <td>18.333</td>\n",
              "      <td>1990-12-14</td>\n",
              "      <td>4.6</td>\n",
              "      <td>332</td>\n",
              "    </tr>\n",
              "    <tr>\n",
              "      <th>9998</th>\n",
              "      <td>2312</td>\n",
              "      <td>In the Name of the King: A Dungeon Siege Tale</td>\n",
              "      <td>Adventure,Fantasy,Action,Drama</td>\n",
              "      <td>en</td>\n",
              "      <td>A man named Farmer sets out to rescue his kidn...</td>\n",
              "      <td>15.159</td>\n",
              "      <td>2007-11-29</td>\n",
              "      <td>4.7</td>\n",
              "      <td>668</td>\n",
              "    </tr>\n",
              "    <tr>\n",
              "      <th>9999</th>\n",
              "      <td>455957</td>\n",
              "      <td>Domino</td>\n",
              "      <td>Thriller,Action,Crime</td>\n",
              "      <td>en</td>\n",
              "      <td>Seeking justice for his partner’s murder by an...</td>\n",
              "      <td>16.482</td>\n",
              "      <td>2019-05-31</td>\n",
              "      <td>4.6</td>\n",
              "      <td>221</td>\n",
              "    </tr>\n",
              "  </tbody>\n",
              "</table>\n",
              "<p>10000 rows × 9 columns</p>\n",
              "</div>\n",
              "    <div class=\"colab-df-buttons\">\n",
              "\n",
              "  <div class=\"colab-df-container\">\n",
              "    <button class=\"colab-df-convert\" onclick=\"convertToInteractive('df-687a817a-8a31-4995-94f4-c8d418acb1dd')\"\n",
              "            title=\"Convert this dataframe to an interactive table.\"\n",
              "            style=\"display:none;\">\n",
              "\n",
              "  <svg xmlns=\"http://www.w3.org/2000/svg\" height=\"24px\" viewBox=\"0 -960 960 960\">\n",
              "    <path d=\"M120-120v-720h720v720H120Zm60-500h600v-160H180v160Zm220 220h160v-160H400v160Zm0 220h160v-160H400v160ZM180-400h160v-160H180v160Zm440 0h160v-160H620v160ZM180-180h160v-160H180v160Zm440 0h160v-160H620v160Z\"/>\n",
              "  </svg>\n",
              "    </button>\n",
              "\n",
              "  <style>\n",
              "    .colab-df-container {\n",
              "      display:flex;\n",
              "      gap: 12px;\n",
              "    }\n",
              "\n",
              "    .colab-df-convert {\n",
              "      background-color: #E8F0FE;\n",
              "      border: none;\n",
              "      border-radius: 50%;\n",
              "      cursor: pointer;\n",
              "      display: none;\n",
              "      fill: #1967D2;\n",
              "      height: 32px;\n",
              "      padding: 0 0 0 0;\n",
              "      width: 32px;\n",
              "    }\n",
              "\n",
              "    .colab-df-convert:hover {\n",
              "      background-color: #E2EBFA;\n",
              "      box-shadow: 0px 1px 2px rgba(60, 64, 67, 0.3), 0px 1px 3px 1px rgba(60, 64, 67, 0.15);\n",
              "      fill: #174EA6;\n",
              "    }\n",
              "\n",
              "    .colab-df-buttons div {\n",
              "      margin-bottom: 4px;\n",
              "    }\n",
              "\n",
              "    [theme=dark] .colab-df-convert {\n",
              "      background-color: #3B4455;\n",
              "      fill: #D2E3FC;\n",
              "    }\n",
              "\n",
              "    [theme=dark] .colab-df-convert:hover {\n",
              "      background-color: #434B5C;\n",
              "      box-shadow: 0px 1px 3px 1px rgba(0, 0, 0, 0.15);\n",
              "      filter: drop-shadow(0px 1px 2px rgba(0, 0, 0, 0.3));\n",
              "      fill: #FFFFFF;\n",
              "    }\n",
              "  </style>\n",
              "\n",
              "    <script>\n",
              "      const buttonEl =\n",
              "        document.querySelector('#df-687a817a-8a31-4995-94f4-c8d418acb1dd button.colab-df-convert');\n",
              "      buttonEl.style.display =\n",
              "        google.colab.kernel.accessAllowed ? 'block' : 'none';\n",
              "\n",
              "      async function convertToInteractive(key) {\n",
              "        const element = document.querySelector('#df-687a817a-8a31-4995-94f4-c8d418acb1dd');\n",
              "        const dataTable =\n",
              "          await google.colab.kernel.invokeFunction('convertToInteractive',\n",
              "                                                    [key], {});\n",
              "        if (!dataTable) return;\n",
              "\n",
              "        const docLinkHtml = 'Like what you see? Visit the ' +\n",
              "          '<a target=\"_blank\" href=https://colab.research.google.com/notebooks/data_table.ipynb>data table notebook</a>'\n",
              "          + ' to learn more about interactive tables.';\n",
              "        element.innerHTML = '';\n",
              "        dataTable['output_type'] = 'display_data';\n",
              "        await google.colab.output.renderOutput(dataTable, element);\n",
              "        const docLink = document.createElement('div');\n",
              "        docLink.innerHTML = docLinkHtml;\n",
              "        element.appendChild(docLink);\n",
              "      }\n",
              "    </script>\n",
              "  </div>\n",
              "\n",
              "\n",
              "<div id=\"df-4c616f77-8bcb-4c49-aede-b1e5aef2c34a\">\n",
              "  <button class=\"colab-df-quickchart\" onclick=\"quickchart('df-4c616f77-8bcb-4c49-aede-b1e5aef2c34a')\"\n",
              "            title=\"Suggest charts.\"\n",
              "            style=\"display:none;\">\n",
              "\n",
              "<svg xmlns=\"http://www.w3.org/2000/svg\" height=\"24px\"viewBox=\"0 0 24 24\"\n",
              "     width=\"24px\">\n",
              "    <g>\n",
              "        <path d=\"M19 3H5c-1.1 0-2 .9-2 2v14c0 1.1.9 2 2 2h14c1.1 0 2-.9 2-2V5c0-1.1-.9-2-2-2zM9 17H7v-7h2v7zm4 0h-2V7h2v10zm4 0h-2v-4h2v4z\"/>\n",
              "    </g>\n",
              "</svg>\n",
              "  </button>\n",
              "\n",
              "<style>\n",
              "  .colab-df-quickchart {\n",
              "      --bg-color: #E8F0FE;\n",
              "      --fill-color: #1967D2;\n",
              "      --hover-bg-color: #E2EBFA;\n",
              "      --hover-fill-color: #174EA6;\n",
              "      --disabled-fill-color: #AAA;\n",
              "      --disabled-bg-color: #DDD;\n",
              "  }\n",
              "\n",
              "  [theme=dark] .colab-df-quickchart {\n",
              "      --bg-color: #3B4455;\n",
              "      --fill-color: #D2E3FC;\n",
              "      --hover-bg-color: #434B5C;\n",
              "      --hover-fill-color: #FFFFFF;\n",
              "      --disabled-bg-color: #3B4455;\n",
              "      --disabled-fill-color: #666;\n",
              "  }\n",
              "\n",
              "  .colab-df-quickchart {\n",
              "    background-color: var(--bg-color);\n",
              "    border: none;\n",
              "    border-radius: 50%;\n",
              "    cursor: pointer;\n",
              "    display: none;\n",
              "    fill: var(--fill-color);\n",
              "    height: 32px;\n",
              "    padding: 0;\n",
              "    width: 32px;\n",
              "  }\n",
              "\n",
              "  .colab-df-quickchart:hover {\n",
              "    background-color: var(--hover-bg-color);\n",
              "    box-shadow: 0 1px 2px rgba(60, 64, 67, 0.3), 0 1px 3px 1px rgba(60, 64, 67, 0.15);\n",
              "    fill: var(--button-hover-fill-color);\n",
              "  }\n",
              "\n",
              "  .colab-df-quickchart-complete:disabled,\n",
              "  .colab-df-quickchart-complete:disabled:hover {\n",
              "    background-color: var(--disabled-bg-color);\n",
              "    fill: var(--disabled-fill-color);\n",
              "    box-shadow: none;\n",
              "  }\n",
              "\n",
              "  .colab-df-spinner {\n",
              "    border: 2px solid var(--fill-color);\n",
              "    border-color: transparent;\n",
              "    border-bottom-color: var(--fill-color);\n",
              "    animation:\n",
              "      spin 1s steps(1) infinite;\n",
              "  }\n",
              "\n",
              "  @keyframes spin {\n",
              "    0% {\n",
              "      border-color: transparent;\n",
              "      border-bottom-color: var(--fill-color);\n",
              "      border-left-color: var(--fill-color);\n",
              "    }\n",
              "    20% {\n",
              "      border-color: transparent;\n",
              "      border-left-color: var(--fill-color);\n",
              "      border-top-color: var(--fill-color);\n",
              "    }\n",
              "    30% {\n",
              "      border-color: transparent;\n",
              "      border-left-color: var(--fill-color);\n",
              "      border-top-color: var(--fill-color);\n",
              "      border-right-color: var(--fill-color);\n",
              "    }\n",
              "    40% {\n",
              "      border-color: transparent;\n",
              "      border-right-color: var(--fill-color);\n",
              "      border-top-color: var(--fill-color);\n",
              "    }\n",
              "    60% {\n",
              "      border-color: transparent;\n",
              "      border-right-color: var(--fill-color);\n",
              "    }\n",
              "    80% {\n",
              "      border-color: transparent;\n",
              "      border-right-color: var(--fill-color);\n",
              "      border-bottom-color: var(--fill-color);\n",
              "    }\n",
              "    90% {\n",
              "      border-color: transparent;\n",
              "      border-bottom-color: var(--fill-color);\n",
              "    }\n",
              "  }\n",
              "</style>\n",
              "\n",
              "  <script>\n",
              "    async function quickchart(key) {\n",
              "      const quickchartButtonEl =\n",
              "        document.querySelector('#' + key + ' button');\n",
              "      quickchartButtonEl.disabled = true;  // To prevent multiple clicks.\n",
              "      quickchartButtonEl.classList.add('colab-df-spinner');\n",
              "      try {\n",
              "        const charts = await google.colab.kernel.invokeFunction(\n",
              "            'suggestCharts', [key], {});\n",
              "      } catch (error) {\n",
              "        console.error('Error during call to suggestCharts:', error);\n",
              "      }\n",
              "      quickchartButtonEl.classList.remove('colab-df-spinner');\n",
              "      quickchartButtonEl.classList.add('colab-df-quickchart-complete');\n",
              "    }\n",
              "    (() => {\n",
              "      let quickchartButtonEl =\n",
              "        document.querySelector('#df-4c616f77-8bcb-4c49-aede-b1e5aef2c34a button');\n",
              "      quickchartButtonEl.style.display =\n",
              "        google.colab.kernel.accessAllowed ? 'block' : 'none';\n",
              "    })();\n",
              "  </script>\n",
              "</div>\n",
              "    </div>\n",
              "  </div>\n"
            ]
          },
          "metadata": {},
          "execution_count": 10
        }
      ]
    },
    {
      "cell_type": "code",
      "source": [
        "#Remove NAN values\n",
        "Dataset.dropna(inplace=True)"
      ],
      "metadata": {
        "id": "GpeQ3z5q6tOO"
      },
      "execution_count": null,
      "outputs": []
    },
    {
      "cell_type": "code",
      "source": [
        "Dataset.info()"
      ],
      "metadata": {
        "colab": {
          "base_uri": "https://localhost:8080/"
        },
        "id": "d1x0Hnnn7nK3",
        "outputId": "5e02b3ef-23d2-4f72-8b63-95d31ea7415e"
      },
      "execution_count": null,
      "outputs": [
        {
          "output_type": "stream",
          "name": "stdout",
          "text": [
            "<class 'pandas.core.frame.DataFrame'>\n",
            "Int64Index: 9985 entries, 0 to 9999\n",
            "Data columns (total 9 columns):\n",
            " #   Column             Non-Null Count  Dtype  \n",
            "---  ------             --------------  -----  \n",
            " 0   id                 9985 non-null   int64  \n",
            " 1   title              9985 non-null   object \n",
            " 2   genre              9985 non-null   object \n",
            " 3   original_language  9985 non-null   object \n",
            " 4   overview           9985 non-null   object \n",
            " 5   popularity         9985 non-null   float64\n",
            " 6   release_date       9985 non-null   object \n",
            " 7   vote_average       9985 non-null   float64\n",
            " 8   vote_count         9985 non-null   int64  \n",
            "dtypes: float64(2), int64(2), object(5)\n",
            "memory usage: 780.1+ KB\n"
          ]
        }
      ]
    },
    {
      "cell_type": "code",
      "source": [
        "# Not  very important features\n",
        "Dataset.drop(\"original_language\", axis=1, inplace=True)\n",
        "Dataset.drop(\"release_date\", axis=1, inplace=True)\n",
        "# Note that we can make the following a catagory of selection but for now will stick on the genre and overview and popularity\n",
        "Dataset.drop(\"vote_average\", axis=1, inplace=True)\n",
        "Dataset.drop(\"vote_count\", axis=1, inplace=True)\n",
        "movies=Dataset"
      ],
      "metadata": {
        "id": "m7hfW_uNDr9M"
      },
      "execution_count": null,
      "outputs": []
    },
    {
      "cell_type": "code",
      "source": [
        "#convert text in Dataset to vectors"
      ],
      "metadata": {
        "id": "HA1aryscCEdV"
      },
      "execution_count": null,
      "outputs": []
    },
    {
      "cell_type": "code",
      "source": [
        "CV=CountVectorizer(max_features=10000, stop_words='english')"
      ],
      "metadata": {
        "id": "Aflw6uxMD8uP"
      },
      "execution_count": null,
      "outputs": []
    },
    {
      "cell_type": "code",
      "source": [
        "genre_vector=CV.fit_transform(movies['genre'].values.astype('U')).toarray()\n",
        "overview_vector=CV.fit_transform(movies['overview'].values.astype('U')).toarray()\n",
        "popularity_vector=CV.fit_transform(movies['popularity'].values.astype('U')).toarray()"
      ],
      "metadata": {
        "id": "45G-Vbs3EJgi"
      },
      "execution_count": null,
      "outputs": []
    },
    {
      "cell_type": "code",
      "source": [
        "# You can Calculate the similarity based on two approches wheather the overview or the genre\n",
        "sim1=cosine_similarity(genre_vector)\n",
        "sim2=cosine_similarity(overview_vector)\n",
        "sim3=cosine_similarity(popularity_vector)"
      ],
      "metadata": {
        "id": "tFIELqjwEc5e"
      },
      "execution_count": null,
      "outputs": []
    },
    {
      "cell_type": "code",
      "source": [
        "# Sorting sim1[2] based on genre_vector[1]\n",
        "dist = sorted(list(enumerate(sim1[2])), reverse=True, key=lambda vector: vector[1])\n",
        "for i in dist[1:6]:\n",
        "    print(i)\n",
        "    print(movies.iloc[i[0]].title)\n",
        "print()\n",
        "# Sorting sim2[2] based on overview_vector[1]\n",
        "dist2 = sorted(list(enumerate(sim2[2])), reverse=True, key=lambda vector: vector[1])\n",
        "for i in dist2[1:6]:  # Use dist2 here, not dist\n",
        "    print(i)\n",
        "    print(movies.iloc[i[0]].title)"
      ],
      "metadata": {
        "id": "KwUNoBxvEzhL",
        "colab": {
          "base_uri": "https://localhost:8080/"
        },
        "outputId": "d018c089-2ef0-43ff-9140-45620da14309"
      },
      "execution_count": null,
      "outputs": [
        {
          "output_type": "stream",
          "name": "stdout",
          "text": [
            "(2, 0.9999999999999998)\n",
            "The Godfather\n",
            "(4, 0.9999999999999998)\n",
            "The Godfather: Part II\n",
            "(23, 0.9999999999999998)\n",
            "GoodFellas\n",
            "(26, 0.9999999999999998)\n",
            "Once Upon a Time in America\n",
            "(36, 0.9999999999999998)\n",
            "City of God\n",
            "\n",
            "(4, 0.3955774026426199)\n",
            "The Godfather: Part II\n",
            "(892, 0.24720661623652207)\n",
            "Kind Hearts and Coronets\n",
            "(3926, 0.23570226039551587)\n",
            "Sinister\n",
            "(747, 0.2286647801900117)\n",
            "Still Walking\n",
            "(250, 0.22360679774997894)\n",
            "On My Skin\n"
          ]
        }
      ]
    },
    {
      "cell_type": "code",
      "source": [
        "def recommend_movie(movie,sim):\n",
        "  index=movies[movies['title']==movie].index[0]\n",
        "  dist=sorted(list(enumerate(sim[index])), reverse=True, key=lambda  vector:vector[1])\n",
        "  for i in dist[1:6]:\n",
        "    print(i)\n",
        "    print(movies.iloc[i[0]].title)"
      ],
      "metadata": {
        "id": "OoSOPQQ3FPxR"
      },
      "execution_count": null,
      "outputs": []
    },
    {
      "cell_type": "code",
      "source": [
        "rec=input(\"what movie do you want me to recommend: \")\n",
        "print(\"what catagory do you suggest me to recommend based on\")\n",
        "print(\" 1.genre\\n 2.overview\\n 3.popularity\")\n",
        "cato=int(input(\"Choose a number: \"))"
      ],
      "metadata": {
        "colab": {
          "base_uri": "https://localhost:8080/"
        },
        "id": "2kNiq6lPF6wS",
        "outputId": "5c840acd-4277-49d0-ab0b-16f4d41c0b5b"
      },
      "execution_count": null,
      "outputs": [
        {
          "name": "stdout",
          "output_type": "stream",
          "text": [
            "what movie do you want me to recommend: Iron Man\n",
            "what catagory do you suggest me to recommend based on\n",
            " 1.genre\n",
            " 2.overview\n",
            " 3.popularity\n",
            "Choose a number: 3\n"
          ]
        }
      ]
    },
    {
      "cell_type": "code",
      "source": [
        "if cato == 1:\n",
        "  sim = sim1\n",
        "elif cato == 2:\n",
        "  sim = sim2\n",
        "elif cato == 3:\n",
        "  sim = sim3\n",
        "else:\n",
        "    print(\"Invalid choice\")\n",
        "    sim = None\n",
        "\n",
        "if sim is not None:\n",
        "    if rec in movies['title'].values:\n",
        "        recommend_movie(rec, sim)\n",
        "    else:\n",
        "        print(f\"Movie '{rec}' not found in the dataset.\")\n"
      ],
      "metadata": {
        "colab": {
          "base_uri": "https://localhost:8080/"
        },
        "id": "q52TWrhsG0bQ",
        "outputId": "6db9acff-2466-4559-c53a-226499efede1"
      },
      "execution_count": null,
      "outputs": [
        {
          "output_type": "stream",
          "name": "stdout",
          "text": [
            "(1085, 0.7071067811865475)\n",
            "Hannah and Her Sisters\n",
            "(1754, 0.7071067811865475)\n",
            "Sorry We Missed You\n",
            "(2259, 0.7071067811865475)\n",
            "Great Expectations\n",
            "(4730, 0.7071067811865475)\n",
            "Eye for an Eye\n",
            "(5298, 0.7071067811865475)\n",
            "Night Train to Lisbon\n"
          ]
        }
      ]
    }
  ]
}